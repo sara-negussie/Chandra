{
 "cells": [
  {
   "cell_type": "markdown",
   "metadata": {},
   "source": [
    "# Accessing release 2.0 of the Chandra Source Catalog with PyVO\n",
    "\n",
    "The [PyVo](https://pyvo.readthedocs.io/) package allows users to query Virtual Observatory services from Python. In this notebook we show how you can use it to query [release 2.0 of the Chandra Source Catalog](https://cxc.cfa.harvard.edu/csc2/) using the [VO interfaces](https://cxc.harvard.edu/csc/download.html#vo).\n",
    "\n",
    "This notebook assumes you have installed CIAO 4.13 using conda, but you should also be able to do this with a CIAO installed using the `ciao-install` script, or any other Python environment as we are just going to use [Astropy](https://www.astropy.org/) along with `pyvo`. The `pyyaml` poackage is needed to support writing out the file (it avoids a warning message you would get).\n",
    "\n",
    "Packages to install:\n",
    "\n",
    " - `pip install astropy pyvo pyyaml matplotlib`"
   ]
  },
  {
   "cell_type": "code",
   "execution_count": null,
   "metadata": {},
   "outputs": [],
   "source": [
    "import numpy as np\n",
    "import pandas as pd\n",
    "import matplotlib.pyplot as plt\n",
    "import numpy as np\n",
    "import decimal\n",
    "\n",
    "#truncate function\n",
    "def trunc(values, decimals=0):\n",
    "    return np.trunc(values*10**decimals)/(10**decimals)\n",
    "\n",
    "galaxiesFull = pd.read_csv(\"galaxies_full.csv\", sep = ',')  \n",
    "raGalaxies = galaxiesFull[\"RA(deg)\"] #right ascention\n",
    "decGalaxies = galaxiesFull[\"DEC(deg)\"] #decllination\n",
    "bestMag = galaxiesFull[\"Best Mag\"]\n",
    "\n",
    "sdss = pd.read_csv(\"allMagsSDSS.csv\", sep = ',') #to 1degree radius\n",
    "obsID = sdss[\"objid\"] \n",
    "myRA = sdss[\"myRA\"] \n",
    "myDEC = sdss[\"myDEC\"] \n",
    "sdssRA = sdss[\"SDSS_RA\"] \n",
    "sdssDEC = sdss[\"SDSS_DEC\"] \n",
    "sdssPetroMag_g = sdss['petroMag_g']\n",
    "\n",
    "#print(sdssPetroMag_g)\n",
    "#print(myRA)\n",
    "print(sdssRA[0:10])\n"
   ]
  },
  {
   "cell_type": "code",
   "execution_count": 62,
   "metadata": {},
   "outputs": [
    {
     "name": "stdout",
     "output_type": "stream",
     "text": [
      "(array([817]),)\n",
      "(array([817]),)\n",
      "[817]\n",
      "1\n",
      "(array([524]),)\n",
      "(array([524]),)\n",
      "[524]\n",
      "1\n",
      "(array([], dtype=int64),)\n",
      "(array([1384]),)\n",
      "[]\n",
      "0\n",
      "(array([903]),)\n",
      "(array([903]),)\n",
      "[903]\n",
      "1\n",
      "(array([], dtype=int64),)\n",
      "(array([468]),)\n",
      "[]\n",
      "0\n",
      "(array([], dtype=int64),)\n",
      "(array([853]),)\n",
      "[]\n",
      "0\n",
      "(array([1208]),)\n",
      "(array([1208]),)\n",
      "[1208]\n",
      "1\n",
      "(array([], dtype=int64),)\n",
      "(array([ 658, 1104]),)\n",
      "[]\n",
      "0\n",
      "(array([155]),)\n",
      "(array([155]),)\n",
      "[155]\n",
      "1\n",
      "(array([1180]),)\n",
      "(array([1180]),)\n",
      "[1180]\n",
      "1\n",
      "(array([], dtype=int64),)\n",
      "(array([1310]),)\n",
      "[]\n",
      "0\n",
      "(array([], dtype=int64),)\n",
      "(array([475]),)\n",
      "[]\n",
      "0\n",
      "(array([], dtype=int64),)\n",
      "(array([1168]),)\n",
      "[]\n",
      "0\n",
      "(array([1131]),)\n",
      "(array([1131]),)\n",
      "[1131]\n",
      "1\n",
      "(array([594]),)\n",
      "(array([594]),)\n",
      "[594]\n",
      "1\n",
      "(array([825]),)\n",
      "(array([825]),)\n",
      "[825]\n",
      "1\n",
      "(array([1059]),)\n",
      "(array([1059]),)\n",
      "[1059]\n",
      "1\n",
      "(array([], dtype=int64),)\n",
      "(array([], dtype=int64),)\n",
      "[]\n",
      "0\n",
      "(array([1352]),)\n",
      "(array([899]),)\n",
      "[]\n",
      "0\n",
      "(array([160]),)\n",
      "(array([160]),)\n",
      "[160]\n",
      "1\n",
      "(array([349]),)\n",
      "(array([349]),)\n",
      "[349]\n",
      "1\n",
      "(array([], dtype=int64),)\n",
      "(array([189]),)\n",
      "[]\n",
      "0\n",
      "(array([930]),)\n",
      "(array([930]),)\n",
      "[930]\n",
      "1\n",
      "(array([], dtype=int64),)\n",
      "(array([618]),)\n",
      "[]\n",
      "0\n",
      "(array([], dtype=int64),)\n",
      "(array([940]),)\n",
      "[]\n",
      "0\n",
      "(array([882]),)\n",
      "(array([882]),)\n",
      "[882]\n",
      "1\n",
      "(array([], dtype=int64),)\n",
      "(array([758]),)\n",
      "[]\n",
      "0\n",
      "(array([], dtype=int64),)\n",
      "(array([1006]),)\n",
      "[]\n",
      "0\n",
      "(array([], dtype=int64),)\n",
      "(array([1411]),)\n",
      "[]\n",
      "0\n",
      "(array([], dtype=int64),)\n",
      "(array([585]),)\n",
      "[]\n",
      "0\n",
      "(array([1017]),)\n",
      "(array([1017]),)\n",
      "[1017]\n",
      "1\n",
      "(array([1060]),)\n",
      "(array([1060]),)\n",
      "[1060]\n",
      "1\n",
      "(array([945]),)\n",
      "(array([945]),)\n",
      "[945]\n",
      "1\n",
      "(array([636]),)\n",
      "(array([636]),)\n",
      "[636]\n",
      "1\n",
      "(array([285]),)\n",
      "(array([285]),)\n",
      "[285]\n",
      "1\n",
      "(array([], dtype=int64),)\n",
      "(array([762]),)\n",
      "[]\n",
      "0\n",
      "(array([1339]),)\n",
      "(array([1339]),)\n",
      "[1339]\n",
      "1\n",
      "(array([1382]),)\n",
      "(array([1382]),)\n",
      "[1382]\n",
      "1\n",
      "(array([1075]),)\n",
      "(array([1075]),)\n",
      "[1075]\n",
      "1\n",
      "(array([892]),)\n",
      "(array([892]),)\n",
      "[892]\n",
      "1\n",
      "(array([1477]),)\n",
      "(array([1477]),)\n",
      "[1477]\n",
      "1\n",
      "(array([], dtype=int64),)\n",
      "(array([10]),)\n",
      "[]\n",
      "0\n",
      "(array([1552]),)\n",
      "(array([1552]),)\n",
      "[1552]\n",
      "1\n",
      "(array([], dtype=int64),)\n",
      "(array([1148]),)\n",
      "[]\n",
      "0\n",
      "(array([1212]),)\n",
      "(array([1212]),)\n",
      "[1212]\n",
      "1\n",
      "(array([489]),)\n",
      "(array([489]),)\n",
      "[489]\n",
      "1\n",
      "(array([], dtype=int64),)\n",
      "(array([746]),)\n",
      "[]\n",
      "0\n",
      "(array([263]),)\n",
      "(array([263]),)\n",
      "[263]\n",
      "1\n",
      "(array([], dtype=int64),)\n",
      "(array([1054]),)\n",
      "[]\n",
      "0\n",
      "(array([823]),)\n",
      "(array([823]),)\n",
      "[823]\n",
      "1\n"
     ]
    },
    {
     "data": {
      "image/png": "[encoded data removed]",
      "text/plain": [
       "<Figure size 720x720 with 1 Axes>"
      ]
     },
     "metadata": {
      "needs_background": "light"
     },
     "output_type": "display_data"
    }
   ],
   "source": [
    "#reorder array\n",
    "newArray = [] \n",
    "newRA = []\n",
    "for i in range(50):#(np.size(myRA)):\n",
    "    #d_RA = decimal.Decimal(sdssRA[i])\n",
    "    #decimals = d_RA.as_tuple().exponent\n",
    "    decimals = 4#len(str(myRA[i]).split(\".\")[1])\n",
    "    #print(sdssRA[i])\n",
    "    #print(\"decimals=\", decimals)\n",
    "    tmp1 = np.where( trunc(myRA,decimals=decimals) ==  trunc(raGalaxies[i],decimals=decimals) ) \n",
    "    print(tmp1)\n",
    "    #d_DEC = decimal.Decimal(sdssDEC[i])\n",
    "    #decimals = d_DEC.as_tuple().exponent\n",
    "    decimals = 4#len(str(myDEC[i]).split(\".\")[1])\n",
    "    #print(sdssDEC[i])\n",
    "    #print(\"decimals=\", decimals) \n",
    "    tmp2 = np.where( trunc(myDEC,decimals=decimals) ==  trunc(decGalaxies[i],decimals=decimals) ) \n",
    "    print(tmp2)\n",
    "    resultArray = (np.intersect1d(tmp1, tmp2))\n",
    "    print(resultArray)\n",
    "    print(np.size(resultArray))\n",
    "    #print(resultArray)\n",
    "    if np.size(resultArray) == 0: \n",
    "                continue\n",
    "    else: \n",
    "            for j in resultArray:\n",
    "                #print(\"raG\",raGalaxies[i])\n",
    "                #print(\"myra\",myRA[j])\n",
    "                newArray.append(sdssPetroMag_g[i])\n",
    "                newRA.append(myRA[j])\n",
    "                #print(newArray)\n",
    "                #print(j)f\n",
    "    #print(sdssPetroMag_g[resultArray])\n",
    "    \n",
    "    #\n",
    "\n",
    "#a =trunc(myRA,decimals=4)\n",
    "#print(a)\n",
    "#Plotting Best Mag vs Petro Mag g\n",
    "#print(np.size(newArray))\n",
    "\"\"\"\n",
    "print(\"Writing file\")\n",
    "\n",
    "with open(r'check_ra&dec.txt', 'w') as fp:\n",
    "    fp.write(\"Best_Mag\\tPetro_Mag_g\\tDifference\\tMy_RA\\tCSC_RA\\tMy_DEC\\tCSC_DEC\\n\")\n",
    "    for i in range(np.size(newArray)):\n",
    "        j = newArray[i]\n",
    "        fp.write(\"%d\\t%d\\t%d\\t%d\\t%d\\t%d\\t%d\\n\" %( (bestMag[i]), (sdssPetroMag_g[i]), (np.fabs(bestMag[i]-sdssPetroMag_g[i])), (sdssRA[i]), (myRA[j]), (sdssDEC[i]), (decGalaxies[j]) ) )\n",
    "\"\"\"\n",
    "\n",
    "\n",
    "#plt.scatter(newArray, bestMag[0:np.size(newArray)], s = 5)\n",
    "fig = plt.figure(figsize =(10, 10))\n",
    "plt.scatter(raGalaxies[0:np.size(newRA)], newRA, s = 5)\n",
    "plt.xlabel(\"PetroMag_g\")\n",
    "plt.ylabel(\"Best Mag\")\n",
    "#plt.xlim(10,30)\n",
    "#plt.ylim(10,30)\n",
    "plt.grid()\n",
    "plt.show()  \n"
   ]
  },
  {
   "cell_type": "code",
   "execution_count": 49,
   "metadata": {},
   "outputs": [
    {
     "name": "stdout",
     "output_type": "stream",
     "text": [
      "[211.43804, 125.55655, 135.94646, 152.64133, 210.2872, 144.66784, 158.66162, 172.06089, 228.42425, 137.33682, 233.84672, 169.73317, 134.60424, 174.51742, 162.03558, 237.77454, 219.08931, 114.5198865, 144.64358, 237.4917523, 176.13363, 120.54709, 121.66394, 169.2549, 204.57105, 151.77715, 149.2515, 218.35141, 170.77833, 150.2895, 120.6241, 231.05353, 160.4207, 211.42679, 143.51159, 152.64392, 174.30635, 161.72495, 233.69412, 129.1385, 120.86518, 209.13073, 127.7144, 206.344, 121.85341, 153.90285, 173.58853, 217.63562, 215.87084, 119.8416918, 207.09483, 211.29331, 242.11263, 151.76867, 131.92372, 234.54539, 204.71156, 241.11743, 177.77008, 143.50054, 151.5195649, 152.65497, 153.20495, 145.08804, 156.1553, 139.90957, 224.58052, 225.33304, 218.22305, 165.2164, 199.21796, 215.18555, 215.911148, 241.8656279, 176.2777998, 147.61414, 117.5914604, 163.37989, 175.86246, 237.96312, 179.28004, 120.49197, 121.77666, 134.2726673, 143.64224, 178.98836, 209.23054, 138.87227, 152.92965, 168.30211, 125.6837922, 143.7085, 175.8854583, 135.94376, 154.32321, 153.1126, 175.0391, 152.37289, 198.25105, 147.16379, 172.10005, 139.84429, 130.6076, 151.0006605, 120.20161, 210.56355, 131.55191, 173.82663, 144.37492, 218.40493, 146.48285, 150.54328, 232.23657, 235.69206, 218.9208815, 222.3693733, 125.60333, 144.12743, 166.63377, 136.86735, 243.44327, 148.1463, 177.2498827, 168.65415, 215.2440675, 167.86778, 203.9397, 213.67051, 233.63822, 209.08882, 231.73071, 135.75027, 216.0620051, 130.61192, 143.68633, 143.77418, 165.07971, 139.8796322, 217.31246, 163.24637, 209.03004, 230.24781, 176.5515, 120.37821, 167.17687, 217.52992, 176.36112, 170.60008, 173.7213, 210.47863, 121.63663, 159.14919, 208.74358, 159.0533, 141.16283, 211.8388449, 218.78375, 167.34713, 137.15226, 175.5775, 176.69283, 175.114, 175.56517, 209.23158, 143.38956, 240.07426, 179.01029, 242.16508, 120.31921, 125.52474, 211.35171, 245.22323, 146.91096, 176.60034, 223.22616, 214.65674, 172.72158, 157.31454, 211.71467, 147.91875, 221.12233, 236.15549, 239.30992, 145.7577876, 160.71846, 210.5533309, 149.7345, 177.88333, 241.32683, 153.8292781, 209.58612, 242.69317, 148.90732, 120.91963, 119.37525, 121.64327, 134.6424, 141.45207, 163.01613, 147.0033, 176.99434, 210.37184, 240.45151, 147.7168891, 160.70188, 247.43378, 126.62683, 170.73066, 208.54694, 168.48542, 168.3175297, 211.38004, 135.59544, 235.35369, 166.73596, 170.68547, 240.97165, 218.31061, 119.61476, 119.91716, 121.44801, 240.0651, 218.38975, 223.1808261, 213.55583, 155.81931, 238.6878, 175.5052326, 141.07758, 120.41826, 214.0531514, 123.05933, 120.47549, 168.81733, 148.46437, 130.8625, 150.18837, 146.37615, 119.98654, 120.30428, 146.97704, 215.62824, 240.33325, 173.90164, 209.54204, 162.8371, 137.01031, 120.65774, 239.0108225, 209.1109, 143.03233, 162.89667, 213.32233, 151.4633, 143.08787, 143.09234, 241.52018, 241.2076, 167.28417, 239.97923, 241.16754, 157.2003, 137.2863, 138.21212, 245.71686, 154.28758, 209.67394, 211.44461, 232.54054, 242.39871, 160.61046, 170.57465, 130.73116, 177.05625, 174.28667, 171.10321, 170.90674, 161.55729, 217.19761, 166.49829, 135.2616, 244.11714, 130.63595, 211.22383, 246.29535, 212.04729, 217.66395, 174.23694, 241.85459, 143.46367, 242.33646, 168.4800262, 140.21144, 134.25454, 218.8805521, 212.11668, 221.8685, 224.65772, 241.16523, 241.40508, 177.51139, 170.06243, 243.63606, 208.01405, 163.01997, 209.05, 120.3937, 241.40497, 155.40937, 143.28001, 138.10778, 176.27302, 216.93364, 177.46718, 147.08453, 117.3059294, 202.21754, 143.20048, 140.4575, 131.69705, 241.84137, 118.81721, 233.92013, 125.87775, 222.4612652, 222.17739, 161.92667, 235.7683958, 216.6185329, 153.78487, 164.40896, 141.31427, 238.18612, 217.96867, 246.35284, 233.61225, 224.36217, 233.53292, 241.1699, 162.24908, 204.35917, 172.68121, 136.64288, 210.64758, 171.41669, 124.42375, 207.92879, 220.3091917, 218.34042, 120.22858, 119.8368558, 238.98917, 177.12777, 131.09124, 176.77647, 144.19321, 233.25172, 144.4562778, 159.46912, 166.98658, 210.0008, 176.43984, 208.4755527, 151.54508, 156.42257, 228.30456, 162.23696, 243.56632, 148.70652, 240.45717, 147.26954, 129.92554, 219.59399, 138.30708, 209.56206, 176.52574, 205.50751, 214.32819, 216.74907, 173.13833, 141.23919, 128.91161, 211.35152, 210.65184, 159.29258, 246.06186, 246.56444, 167.48308, 233.1869, 120.43635, 151.8883, 208.76879, 215.95633, 239.37787, 211.06601, 159.34733, 146.4228, 234.89759, 213.47303, 162.23482, 146.33914, 137.34426, 161.76151, 151.22461, 173.54865, 131.66652, 138.82912, 150.76442, 233.74392, 120.59141, 164.05797, 118.4534915, 243.6722, 159.36936, 133.14066, 212.0933608, 119.2575, 234.83978, 210.81378, 220.46654, 212.24721, 238.55794, 209.31898, 175.9490812, 167.60511, 210.79105, 148.90265, 210.62425, 143.02592, 142.98308, 145.47458, 168.25088, 213.1691104, 159.08883, 131.4981, 155.96613, 211.5616322, 138.78346, 137.67431, 139.31222, 164.89847, 148.04725, 155.4774, 240.94164, 239.37406, 170.59662, 137.34398, 154.54282, 218.12633, 210.82399, 139.95417, 198.1247446, 162.07036, 161.33939, 120.39337, 146.37237, 243.71455, 241.13229, 239.85335, 125.51504, 168.06432, 211.2751, 210.94343, 120.11662, 217.93404, 242.07196, 233.38123, 211.63296, 160.99042, 209.4408887, 219.93525, 120.41449, 234.62488, 233.64592, 124.90404, 237.44559, 120.6266, 155.78637, 145.23458, 234.7262, 212.19908, 214.68087, 209.64404, 217.20221, 235.30042, 147.77513, 153.61906, 166.80702, 120.69643, 246.84412, 125.9012, 120.11898, 153.21042, 160.91213, 162.88061, 130.27463, 230.23204, 243.8522, 219.32171, 128.9645039, 211.14984, 173.1454, 161.29097, 206.35908, 237.23796, 212.76383, 146.46037, 235.84987, 174.55404, 145.96239, 240.67624, 146.18289, 120.85637, 217.24263, 242.64312, 146.34463, 177.17806, 213.0658, 125.08868, 161.36025, 120.61995, 213.70989, 133.98084, 146.03555, 211.52704, 120.19591, 232.18768, 204.38342, 144.31996, 144.87221, 161.64564, 224.53658, 159.12759, 242.87326, 134.95436, 241.99317, 233.0035, 120.056, 241.19762, 159.09917, 217.2948, 149.93122, 119.7533678, 120.56252, 177.97902, 135.65712, 208.90415, 122.76984, 149.44905, 157.44496, 134.6830244, 146.08078, 169.329563, 120.98492, 130.89636, 213.30021, 219.79617, 216.13649, 120.15632, 164.71648, 217.46069, 140.41588, 209.93787, 121.40704, 176.18117, 120.49372, 155.04168, 210.95251, 235.01417, 152.84766, 120.36156, 216.09657, 177.37929, 217.41855, 247.1615, 120.02622, 198.29618, 166.11033, 220.74168, 170.7463806, 209.55358, 160.50154, 149.48624, 235.77533, 218.28838, 148.53042, 130.70089, 139.06204, 120.72783, 217.98913, 150.0101966, 211.36455, 243.29764, 209.59568, 125.67165, 234.95208, 151.988, 222.72898, 234.47271, 203.90487, 205.0774, 209.84476, 240.41795, 213.13215, 148.64879, 209.37346, 217.07677, 246.96197, 210.2931387, 147.74625, 217.68208, 131.74031, 245.0015595, 146.70396, 233.42942, 215.54464, 237.5115628, 146.2455, 142.44238, 193.41753, 147.62629, 220.87511, 236.54052, 148.50252, 237.25523, 210.21868, 165.3451838, 147.40433, 120.48119, 225.57009, 209.68087, 215.93194, 208.04521, 221.98433, 134.71029, 211.426, 175.98558, 131.31588, 208.02349, 134.7269654, 233.68935, 120.08741, 233.63496, 198.33157, 215.32782, 121.64085, 218.66333, 201.7090714, 146.6899, 141.35346, 150.71258, 120.8910656, 173.78454, 120.41679, 150.2980836, 233.9153, 164.65653, 149.26352, 177.08382, 228.53228, 222.90949, 121.77483, 141.91082, 242.5842914, 177.9550663, 153.8122369, 120.85277, 175.94216, 215.61438, 218.1831, 236.40625, 181.01808, 135.6725, 208.05915, 155.3334, 174.37805, 153.49546, 241.68767, 137.34393, 241.14319, 241.07966, 209.42058, 150.07131, 157.90533, 147.02454, 217.04523, 143.47317, 161.147, 209.039, 209.09757, 157.10305, 173.46213, 196.0450422, 145.47471, 176.23975, 144.6738575, 144.74662, 157.92009, 235.16721, 220.23107, 173.66088, 120.57557, 234.55844, 218.10725, 213.84258, 229.85535, 246.72285, 240.97422, 139.19833, 239.35754, 150.13328, 176.34281, 246.8841558, 135.53504, 155.93317, 239.56287, 121.73206, 130.64621, 176.47955, 145.67871, 144.35871, 174.05383, 117.85915, 162.36126, 239.80661, 215.34765, 236.8320833, 218.4851018, 156.67492, 151.85025, 148.62696, 158.52251, 130.50023, 166.94601, 162.11629, 135.394473, 159.19129, 126.10763, 174.98127, 162.57901, 238.7054487, 138.95608, 125.14475, 120.70681, 214.28106, 209.61235, 120.48587, 137.58383, 208.58134, 120.51445, 146.88083, 120.12113, 163.80257, 233.7829, 161.95667, 142.376, 131.0343262, 142.466, 211.02658, 213.06588, 152.41792, 155.05812, 166.38347, 246.60061, 156.47119, 150.26403, 226.97213, 212.3000418, 218.2201, 235.27646, 200.1347, 210.50054, 120.75963, 237.13583, 147.40414, 233.0540947, 212.25965, 210.67091, 146.3593653, 194.23788, 177.73329, 218.03418, 218.88867, 169.55651, 152.32237, 127.84017, 131.1483939, 166.5934902, 165.07737, 165.32061, 150.24404, 146.83312, 177.2681607, 201.88987, 211.78415, 160.23567, 158.73388, 133.9392406, 164.0375, 130.38276, 209.3085, 155.85975, 241.25813, 216.92735, 208.2459547, 233.9241616, 209.34821, 210.85071, 208.36063, 143.0855, 147.74511, 140.44345, 148.67539, 217.71244, 151.79575, 234.65304, 245.6433144, 179.08249, 143.03672, 148.24513, 150.96604, 176.66414, 137.77322, 209.66067, 213.61392, 232.73794, 130.65243, 138.73889, 176.53733, 130.73494, 237.87921, 169.36446, 211.25079, 144.03579, 198.16612, 138.6713, 147.90914, 158.07027, 230.48567, 119.7748539, 120.60295, 220.32993, 140.00726, 235.82468, 174.2579, 142.95167, 199.09976, 213.34792, 151.03634, 129.17146, 121.6999, 234.26493] 0       212.1949\n",
      "1       214.2811\n",
      "2       219.5940\n",
      "3       219.7879\n",
      "4       220.8716\n",
      "          ...   \n",
      "1557    120.2466\n",
      "1558    120.5506\n",
      "1559    149.2515\n",
      "1560    149.2635\n",
      "1561    114.5199\n",
      "Name: myRA, Length: 1562, dtype: float64\n"
     ]
    }
   ],
   "source": [
    "#print(sdssRA, myRA)\n",
    "print(newRA,myRA)"
   ]
  },
  {
   "cell_type": "code",
   "execution_count": null,
   "metadata": {},
   "outputs": [],
   "source": [
    "import numpy as np\n",
    "\n",
    "from matplotlib import pyplot as plt\n",
    "import matplotlib\n",
    "\n",
    "import astropy\n",
    "import pyvo as vo\n",
    "\n",
    "%matplotlib inline"
   ]
  },
  {
   "cell_type": "markdown",
   "metadata": {},
   "source": [
    "Let's just check the versions (it is expected that the results should not depend on these versions):"
   ]
  },
  {
   "cell_type": "code",
   "execution_count": null,
   "metadata": {},
   "outputs": [],
   "source": [
    "print(\"Versions:\")\n",
    "print(f\"  NumPy       - {np.__version__}\")\n",
    "print(f\"  Matplotlib  - {matplotlib.__version__}\")\n",
    "print(f\"  AstroPy     - {astropy.__version__}\")\n",
    "print(f\"  PyVO        - {vo.__version__}\")"
   ]
  },
  {
   "cell_type": "markdown",
   "metadata": {},
   "source": [
    "## Aim\n",
    "\n",
    "This document shows how to use a cone search - that is, find results around a given location - and then run a general \"database query\", which can be done over the whole sky.\n",
    "\n",
    "The Virtual Observatory cone-search interface is \"simple\", in that you give it a location, radius, and an optional \"verbosity\" parameter between 1 and 3, inclusive, that controls the number of columns that gets returned. The details can be found at the [CSC 2.0 cone search](http://cda.cfa.harvard.edu/cscvo/) page.\n",
    "\n",
    "The Table Access Protocol, used for the \"all-sky\" query, allows much-more general queries, but you have to actually write them yourself. It is suggested that you use [CSCView](http://cda.harvard.edu/cscview/) to create a query, and then view the query - using the `View/Quety/Show Language` menu item - to see what query it has created: this is important for complex queries where you are trying to access data from multiple tables (e.g. observation-level fluxes mapped to a given master source), since there are many \"hidden\" traps in these queries which CSCView knows about."
   ]
  },
  {
   "cell_type": "markdown",
   "metadata": {},
   "source": [
    "### Cone Search\n",
    "\n",
    "Let's start with a two arcminute radius around NGC 1333, for which we will use the name resolver from Astropy:"
   ]
  },
  {
   "cell_type": "code",
   "execution_count": null,
   "metadata": {},
   "outputs": [],
   "source": [
    "from astropy.coordinates import SkyCoord\n",
    "from astropy import units as u\n",
    "\n",
    "ngc1333 = SkyCoord.from_name('NGC 1333')\n",
    "maxrad = 2.0 * u.arcmin"
   ]
  },
  {
   "cell_type": "code",
   "execution_count": null,
   "metadata": {},
   "outputs": [],
   "source": [
    "ngc1333"
   ]
  },
  {
   "cell_type": "markdown",
   "metadata": {},
   "source": [
    "I now need a Python object representing the \n",
    "[CSC2 Virtual Observatory Cone Search Service](http://cda.cfa.harvard.edu/cscvo/), which has a base URL of `http://cda.cfa.harvard.edu/csc2scs/coneSearch`:"
   ]
  },
  {
   "cell_type": "code",
   "execution_count": null,
   "metadata": {},
   "outputs": [],
   "source": [
    "cone = vo.dal.SCSService('http://cda.cfa.harvard.edu/csc2scs/coneSearch')"
   ]
  },
  {
   "cell_type": "markdown",
   "metadata": {},
   "source": [
    "To run the search we are going to use the `search` method, which (fortunately for this notebook) has a short help page so I can include it:"
   ]
  },
  {
   "cell_type": "code",
   "execution_count": null,
   "metadata": {},
   "outputs": [],
   "source": [
    "help(cone.search)"
   ]
  },
  {
   "cell_type": "markdown",
   "metadata": {},
   "source": [
    "We can then run the query with the following (the arguments don't need to be named but it makes things a bit clearer to be explicit):"
   ]
  },
  {
   "cell_type": "code",
   "execution_count": null,
   "metadata": {},
   "outputs": [],
   "source": [
    "results = cone.search(pos=ngc1333, radius=maxrad)"
   ]
  },
  {
   "cell_type": "markdown",
   "metadata": {},
   "source": [
    "Hopefully this completes without error, and returns 11 results (note that it depends on the location returned by the name search and so can change when the SIMBAD or NED results change):"
   ]
  },
  {
   "cell_type": "code",
   "execution_count": null,
   "metadata": {},
   "outputs": [],
   "source": [
    "len(results)"
   ]
  },
  {
   "cell_type": "code",
   "execution_count": null,
   "metadata": {},
   "outputs": [],
   "source": [
    "results"
   ]
  },
  {
   "cell_type": "markdown",
   "metadata": {},
   "source": [
    "The fact that the source names begin with '2CXO' means that we are indeed searching release 2.0 and not 1.1. Let's see what the default columns are (note that this search was run with the cone-search `verbosity` parameter set to 2, which http://cda.cfa.harvard.edu/cscvo/ tells us returns the following master-source columns: `m.name`, `m.ra`, `m.dec`, `m.err_ellipse_r0`, `m.conf_flag`, `m.sat_src_flag`, `m.significance`, `m.flux_aper_b`, `m.flux_aper_lolim_b`, `m.flux_aper_hilim_b`, `m.flux_aper_w`, `m.flux_aper_lolim_w`, `m.flux_aper_hilim_w`, `m.extent_flag`, `m.hard_hm`, `m.hard_hm_lolim`, `m.hard_hm_hilim`, `m.hard_ms`, `m.hard_ms_lolim`, `m.hard_ms_hilim`, `m.var_intra_index_b`, `m.var_inter_index_b`, `m.var_intra_index_w`, and `m.var_inter_index_w`.\n",
    "\n",
    "The results can be converted to an AstroPy table - using `results.to_table()`, which we use below - but they can also be used directly:"
   ]
  },
  {
   "cell_type": "code",
   "execution_count": null,
   "metadata": {},
   "outputs": [],
   "source": [
    "results.fieldnames"
   ]
  },
  {
   "cell_type": "code",
   "execution_count": null,
   "metadata": {},
   "outputs": [],
   "source": [
    "results['name']"
   ]
  },
  {
   "cell_type": "markdown",
   "metadata": {},
   "source": [
    "We can iterate through the sources:"
   ]
  },
  {
   "cell_type": "code",
   "execution_count": null,
   "metadata": {},
   "outputs": [],
   "source": [
    "for r in results:\n",
    "    out = f\"{r['name']} flux={r['flux_aper_b']:.3e}  \"\n",
    "    out += f\"{r['flux_aper_lolim_b']:.3e} - {r['flux_aper_hilim_b']:.3e}\"\n",
    "    print(out)"
   ]
  },
  {
   "cell_type": "markdown",
   "metadata": {},
   "source": [
    "display them:"
   ]
  },
  {
   "cell_type": "code",
   "execution_count": null,
   "metadata": {},
   "outputs": [],
   "source": [
    "plt.plot(results['ra'], results['dec'], 'o');"
   ]
  },
  {
   "cell_type": "markdown",
   "metadata": {},
   "source": [
    "or a look at how the flux is related to significance (note that in the Chandra Source Catalog, detection significance is not expected to correlate directly with flux, for a number of reasons, including that there is no guarantee that at the master source level the significance value refers to the same band as plotted and the significance involves the detection algorithm, rather than the calculation of flux."
   ]
  },
  {
   "cell_type": "code",
   "execution_count": null,
   "metadata": {},
   "outputs": [],
   "source": [
    "plt.plot(results['flux_aper_b'], results['significance'], 'o')\n",
    "plt.xlabel('flux (aper_b)')\n",
    "plt.ylabel('Significance')\n",
    "plt.xscale('log')"
   ]
  },
  {
   "cell_type": "markdown",
   "metadata": {},
   "source": [
    "### Saving data\n",
    "\n",
    "Before finishing, let's try to save the search results as a FITS table. Unfortunately for us the name column\n",
    "is being turned into a Python object rather than a string, which causes the conversion to FITS to fail. This\n",
    "appears to be a choice with how AstroPy [handles string columns of unrestricted length](https://docs.astropy.org/en/stable/io/votable/#datatype-mappings), so one solution is to manually convert the name field to string values."
   ]
  },
  {
   "cell_type": "code",
   "execution_count": null,
   "metadata": {},
   "outputs": [],
   "source": [
    "results.votable.get_field_by_id_or_name('name')"
   ]
  },
  {
   "cell_type": "code",
   "execution_count": null,
   "metadata": {},
   "outputs": [],
   "source": [
    "tbl = results.to_table()"
   ]
  },
  {
   "cell_type": "markdown",
   "metadata": {},
   "source": [
    "The `name` column starts out as having a data type of `object` (as the string names are normally 21 characters long but can be 22)."
   ]
  },
  {
   "cell_type": "code",
   "execution_count": null,
   "metadata": {},
   "outputs": [],
   "source": [
    "tbl['name']"
   ]
  },
  {
   "cell_type": "markdown",
   "metadata": {},
   "source": [
    "A quick conversion is to just use `str`:"
   ]
  },
  {
   "cell_type": "code",
   "execution_count": null,
   "metadata": {},
   "outputs": [],
   "source": [
    "tbl['name'] = [str(n) for n in tbl['name']]"
   ]
  },
  {
   "cell_type": "code",
   "execution_count": null,
   "metadata": {},
   "outputs": [],
   "source": [
    "tbl['name']"
   ]
  },
  {
   "cell_type": "markdown",
   "metadata": {},
   "source": [
    "The output for a AstroPy Table is slightly different:"
   ]
  },
  {
   "cell_type": "code",
   "execution_count": null,
   "metadata": {},
   "outputs": [],
   "source": [
    "tbl"
   ]
  },
  {
   "cell_type": "markdown",
   "metadata": {},
   "source": [
    "Finally the file can be written out as a FITS table:"
   ]
  },
  {
   "cell_type": "code",
   "execution_count": null,
   "metadata": {},
   "outputs": [],
   "source": [
    "tbl.write('ngc1333.fits', format='fits', overwrite=True)"
   ]
  },
  {
   "cell_type": "markdown",
   "metadata": {},
   "source": [
    "### Moving to \"all sky\" queries (general queries)\n",
    "\n",
    "For an all-sky search we are going to switch to the [Table Access Protocol](http://cda.cfa.harvard.edu/csctap/) search. This has a base URL of `http://cda.cfa.harvard.edu/csc2tap` and requires us writing a query using the [Astronomical Data Query Language (ADQL)](https://wiki.ivoa.net/twiki/bin/view/IVOA/ADQL). In this particular case we are going to do a simple search and return a subset of the columns that we got back from the cone search:\n",
    "\n",
    "```\n",
    "SELECT m.name, m.ra, m.dec, m.conf_flag, m.significance, m.extent_flag, m.sat_src_flag,\n",
    "       m.flux_aper_b, m.flux_aper_lolim_b, m.flux_aper_hilim_b\n",
    "FROM csc2.master_source m\n",
    "WHERE m.name LIKE '%X'\n",
    "```"
   ]
  },
  {
   "cell_type": "code",
   "execution_count": null,
   "metadata": {},
   "outputs": [],
   "source": [
    "tap = vo.dal.TAPService('http://cda.cfa.harvard.edu/csc2tap')"
   ]
  },
  {
   "cell_type": "markdown",
   "metadata": {},
   "source": [
    "We can check what tables are available (although we are focussed on the \"master source\" table, it's useful to know what else is around):"
   ]
  },
  {
   "cell_type": "code",
   "execution_count": null,
   "metadata": {},
   "outputs": [],
   "source": [
    "for i, tblname in enumerate(tap.tables.keys()):\n",
    "    print(f\"{i + 1:2d} - {tblname}\")"
   ]
  },
  {
   "cell_type": "markdown",
   "metadata": {},
   "source": [
    "Let's try the simple query. This asks for master-source properties on all the \"extended\" sources in the catalog (where \"extended\" means large-diffuse emission, and not slightly-larger-than-a-point-source extended):"
   ]
  },
  {
   "cell_type": "code",
   "execution_count": null,
   "metadata": {},
   "outputs": [],
   "source": [
    "qry = \"\"\"\n",
    "SELECT m.name, m.ra, m.dec, m.conf_flag, m.significance, m.extent_flag, m.sat_src_flag,\n",
    "       m.flux_aper_b, m.flux_aper_lolim_b, m.flux_aper_hilim_b\n",
    "FROM csc2.master_source m\n",
    "WHERE m.name LIKE '%X'\n",
    "\"\"\""
   ]
  },
  {
   "cell_type": "code",
   "execution_count": null,
   "metadata": {},
   "outputs": [],
   "source": [
    "tresults = tap.search(qry)"
   ]
  },
  {
   "cell_type": "markdown",
   "metadata": {},
   "source": [
    "In CSC 2.0 there are 1299 extended master sources:"
   ]
  },
  {
   "cell_type": "code",
   "execution_count": null,
   "metadata": {},
   "outputs": [],
   "source": [
    "len(tresults)"
   ]
  },
  {
   "cell_type": "markdown",
   "metadata": {},
   "source": [
    "Let's check the sky distribution, which should cover most of the sky (excluding poles and a band close to the plane):"
   ]
  },
  {
   "cell_type": "code",
   "execution_count": null,
   "metadata": {},
   "outputs": [],
   "source": [
    "plt.plot(tresults['ra'], tresults['dec'], 'o')\n",
    "plt.title('Extended sources in CSC 2.0')\n",
    "plt.xlabel('Right Ascension')\n",
    "plt.ylabel('Declination')\n",
    "plt.ylim(-90, 90)\n",
    "plt.xlim(370, -10);"
   ]
  },
  {
   "cell_type": "markdown",
   "metadata": {},
   "source": [
    "With this we can run a query on the full master-source catalog. In this case I have selected a subset of the master-source properties, and exclude these \"extended\" objects\". Note that you can ask for more columns,\n",
    "or add in a cone search (or other simple limits and tests), if you want."
   ]
  },
  {
   "cell_type": "code",
   "execution_count": null,
   "metadata": {},
   "outputs": [],
   "source": [
    "qry = \"\"\"\n",
    "SELECT m.name, m.ra, m.dec, m.conf_flag, m.significance, m.extent_flag, m.sat_src_flag,\n",
    "       m.flux_aper_b, m.flux_aper_lolim_b, m.flux_aper_hilim_b\n",
    "FROM csc2.master_source m\n",
    "WHERE m.name NOT LIKE '%X'\n",
    "\"\"\""
   ]
  },
  {
   "cell_type": "code",
   "execution_count": null,
   "metadata": {},
   "outputs": [],
   "source": [
    "%time cat = tap.search(qry)"
   ]
  },
  {
   "cell_type": "markdown",
   "metadata": {},
   "source": [
    "We should get about 310,000 results, which is fortunately less than the maximum number of rows you can make in a query against this service (as shown by the `maxrec` parameter):"
   ]
  },
  {
   "cell_type": "code",
   "execution_count": null,
   "metadata": {},
   "outputs": [],
   "source": [
    "tap.maxrec"
   ]
  },
  {
   "cell_type": "code",
   "execution_count": null,
   "metadata": {},
   "outputs": [],
   "source": [
    "len(cat)"
   ]
  },
  {
   "cell_type": "code",
   "execution_count": null,
   "metadata": {},
   "outputs": [],
   "source": [
    "plt.plot(cat['ra'], cat['dec'], '.', alpha=0.1)\n",
    "plt.xlabel('Right Ascension')\n",
    "plt.ylabel('Declination')\n",
    "plt.ylim(-90, 90)\n",
    "plt.xlim(370, -10);"
   ]
  },
  {
   "cell_type": "markdown",
   "metadata": {},
   "source": [
    "As we have enough points we can use a [`hexbin` plot](https://matplotlib.org/3.3.2/api/_as_gen/matplotlib.pyplot.hexbin.html) to display the flux-significance data:"
   ]
  },
  {
   "cell_type": "code",
   "execution_count": null,
   "metadata": {},
   "outputs": [],
   "source": [
    "idx = (cat['flux_aper_b'] > 0) & (cat['significance'] > 0)\n",
    "plt.hexbin(cat['flux_aper_b'][idx], cat['significance'][idx],\n",
    "           xscale='log', yscale='log', mincnt=1)\n",
    "plt.colorbar()\n",
    "plt.xlabel('Flux (aper_b)')\n",
    "plt.ylabel('Significance');"
   ]
  },
  {
   "cell_type": "markdown",
   "metadata": {},
   "source": [
    "The output can be written out but, as we include the `name` column, the same work-around as earlier is used:"
   ]
  },
  {
   "cell_type": "code",
   "execution_count": null,
   "metadata": {},
   "outputs": [],
   "source": [
    "type(cat)"
   ]
  },
  {
   "cell_type": "code",
   "execution_count": null,
   "metadata": {},
   "outputs": [],
   "source": [
    "tbl = cat.to_table()\n",
    "tbl['name'] = [str(n) for n in tbl['name']]"
   ]
  },
  {
   "cell_type": "code",
   "execution_count": null,
   "metadata": {},
   "outputs": [],
   "source": [
    "tbl.write('csc2.fits', format='fits', overwrite=True)"
   ]
  },
  {
   "cell_type": "markdown",
   "metadata": {},
   "source": [
    "---\n",
    "\n",
    "For users of CIAO, we can use the `ciao_contrib.runtool` module to run the CIAO tool `dmlist` as if it were a Python command, and view the contents of the files we have written out:"
   ]
  },
  {
   "cell_type": "code",
   "execution_count": null,
   "metadata": {},
   "outputs": [],
   "source": [
    "#import ciao \n",
    "#help(ciao)\n",
    "import ciao_contrib.runtool as rt\n"
   ]
  },
  {
   "cell_type": "code",
   "execution_count": null,
   "metadata": {},
   "outputs": [],
   "source": [
    "from ciao_contrib.runtool import dmlist"
   ]
  },
  {
   "cell_type": "markdown",
   "metadata": {},
   "source": [
    "First the `ngc1333.fits` file:"
   ]
  },
  {
   "cell_type": "code",
   "execution_count": null,
   "metadata": {},
   "outputs": [],
   "source": [
    "dmlist('ngc1333.fits', 'blocks')"
   ]
  },
  {
   "cell_type": "code",
   "execution_count": null,
   "metadata": {},
   "outputs": [],
   "source": [
    "dmlist('ngc1333.fits', 'cols')"
   ]
  },
  {
   "cell_type": "markdown",
   "metadata": {},
   "source": [
    "and now the `csc2.fits` file:"
   ]
  },
  {
   "cell_type": "code",
   "execution_count": null,
   "metadata": {},
   "outputs": [],
   "source": [
    "dmlist('csc2.fits', 'blocks')"
   ]
  },
  {
   "cell_type": "code",
   "execution_count": null,
   "metadata": {},
   "outputs": [],
   "source": [
    "dmlist('csc2.fits', 'cols')"
   ]
  }
 ],
 "metadata": {
  "kernelspec": {
   "display_name": "Python 3.8.2 64-bit",
   "language": "python",
   "name": "python3"
  },
  "language_info": {
   "codemirror_mode": {
    "name": "ipython",
    "version": 3
   },
   "file_extension": ".py",
   "mimetype": "text/x-python",
   "name": "python",
   "nbconvert_exporter": "python",
   "pygments_lexer": "ipython3",
   "version": "3.8.2"
  },
  "vscode": {
   "interpreter": {
    "hash": "31f2aee4e71d21fbe5cf8b01ff0e069b9275f58929596ceb00d14d90e3e16cd6"
   }
  }
 },
 "nbformat": 4,
 "nbformat_minor": 4
}
